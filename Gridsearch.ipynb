{
 "cells": [
  {
   "cell_type": "code",
   "execution_count": 1,
   "metadata": {},
   "outputs": [],
   "source": [
    "import pandas as pd\n",
    "import numpy as np\n",
    "from sklearn.ensemble import ExtraTreesClassifier\n",
    "from sklearn.model_selection import GridSearchCV, train_test_split\n",
    "\n"
   ]
  },
  {
   "cell_type": "code",
   "execution_count": 3,
   "metadata": {},
   "outputs": [
    {
     "name": "stdout",
     "output_type": "stream",
     "text": [
      "0.8434523809523811\n"
     ]
    }
   ],
   "source": [
    "data = pd.read_csv(r'data\\heart.csv') \n",
    "x = data.drop(['output'], axis=1) # features - train and val data\n",
    "y = data['output']\n",
    "x_train, x_val, y_train, y_val = train_test_split(x, y, test_size=0.2, random_state=0)\n",
    "\n",
    "\n",
    "\n",
    "hyper_params = {\n",
    "    \"n_estimators\": [100, 200, 500],\n",
    "    \"random_state\": [0, 42, 100],\n",
    "    \"max_depth\": [3, 6, 9],\n",
    "    \"min_samples_split\": [2, 3, 4]\n",
    "}\n",
    "\n",
    "clf = ExtraTreesClassifier()\n",
    "\n",
    "GS = GridSearchCV(estimator=clf, param_grid=hyper_params, scoring = 'accuracy', cv=5, refit='accuracy')\n",
    "\n",
    "GS.fit(x_train, y_train)\n",
    "# print(GS.best_estimator_)\n",
    "# print(GS.best_params_)\n",
    "best_params = GS.best_params_\n",
    "scores = GS.best_score_\n",
    "print(scores)"
   ]
  },
  {
   "cell_type": "code",
   "execution_count": null,
   "metadata": {},
   "outputs": [],
   "source": [
    "# {'max_depth': 6, 'min_samples_split': 4, 'n_estimators': 500, 'random_state': 42}"
   ]
  }
 ],
 "metadata": {
  "interpreter": {
   "hash": "5ed1bb5934eae08299c16fd9947bb48a0f71760aafca10ea34604ac55954bd10"
  },
  "kernelspec": {
   "display_name": "Python 3.10.4 ('strive2')",
   "language": "python",
   "name": "python3"
  },
  "language_info": {
   "codemirror_mode": {
    "name": "ipython",
    "version": 3
   },
   "file_extension": ".py",
   "mimetype": "text/x-python",
   "name": "python",
   "nbconvert_exporter": "python",
   "pygments_lexer": "ipython3",
   "version": "3.10.4"
  },
  "orig_nbformat": 4
 },
 "nbformat": 4,
 "nbformat_minor": 2
}
