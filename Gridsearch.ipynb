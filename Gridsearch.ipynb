{
 "cells": [
  {
   "cell_type": "code",
   "execution_count": 1,
   "metadata": {},
   "outputs": [],
   "source": [
    "import pandas as pd\n",
    "import numpy as np\n",
    "from sklearn.ensemble import ExtraTreesClassifier\n",
    "from sklearn.model_selection import GridSearchCV, train_test_split\n",
    "\n"
   ]
  },
  {
   "cell_type": "code",
   "execution_count": 2,
   "metadata": {},
   "outputs": [
    {
     "name": "stderr",
     "output_type": "stream",
     "text": [
      "C:\\Users\\Lenovo\\anaconda3\\envs\\strive2\\lib\\site-packages\\xgboost\\compat.py:36: FutureWarning: pandas.Int64Index is deprecated and will be removed from pandas in a future version. Use pandas.Index with the appropriate dtype instead.\n",
      "  from pandas import MultiIndex, Int64Index\n",
      "c:\\Users\\Lenovo\\OneDrive\\Documents\\Strive repos\\Heart-disease-ML-model\\data_handler.py:128: FutureWarning: The frame.append method is deprecated and will be removed from pandas in a future version. Use pandas.concat instead.\n",
      "  results = results.append({\"Model\": model_name,\n",
      "c:\\Users\\Lenovo\\OneDrive\\Documents\\Strive repos\\Heart-disease-ML-model\\data_handler.py:128: FutureWarning: The frame.append method is deprecated and will be removed from pandas in a future version. Use pandas.concat instead.\n",
      "  results = results.append({\"Model\": model_name,\n",
      "c:\\Users\\Lenovo\\OneDrive\\Documents\\Strive repos\\Heart-disease-ML-model\\data_handler.py:128: FutureWarning: The frame.append method is deprecated and will be removed from pandas in a future version. Use pandas.concat instead.\n",
      "  results = results.append({\"Model\": model_name,\n",
      "c:\\Users\\Lenovo\\OneDrive\\Documents\\Strive repos\\Heart-disease-ML-model\\data_handler.py:128: FutureWarning: The frame.append method is deprecated and will be removed from pandas in a future version. Use pandas.concat instead.\n",
      "  results = results.append({\"Model\": model_name,\n",
      "c:\\Users\\Lenovo\\OneDrive\\Documents\\Strive repos\\Heart-disease-ML-model\\data_handler.py:128: FutureWarning: The frame.append method is deprecated and will be removed from pandas in a future version. Use pandas.concat instead.\n",
      "  results = results.append({\"Model\": model_name,\n",
      "C:\\Users\\Lenovo\\anaconda3\\envs\\strive2\\lib\\site-packages\\xgboost\\sklearn.py:1224: UserWarning: The use of label encoder in XGBClassifier is deprecated and will be removed in a future release. To remove this warning, do the following: 1) Pass option use_label_encoder=False when constructing XGBClassifier object; and 2) Encode your labels (y) as integers starting with 0, i.e. 0, 1, 2, ..., [num_class - 1].\n",
      "  warnings.warn(label_encoder_deprecation_msg, UserWarning)\n"
     ]
    },
    {
     "name": "stdout",
     "output_type": "stream",
     "text": [
      "[12:39:29] WARNING: D:\\bld\\xgboost-split_1645118015404\\work\\src\\learner.cc:1115: Starting in XGBoost 1.3.0, the default evaluation metric used with the objective 'binary:logistic' was changed from 'error' to 'logloss'. Explicitly set eval_metric if you'd like to restore the old behavior.\n"
     ]
    },
    {
     "name": "stderr",
     "output_type": "stream",
     "text": [
      "c:\\Users\\Lenovo\\OneDrive\\Documents\\Strive repos\\Heart-disease-ML-model\\data_handler.py:128: FutureWarning: The frame.append method is deprecated and will be removed from pandas in a future version. Use pandas.concat instead.\n",
      "  results = results.append({\"Model\": model_name,\n",
      "c:\\Users\\Lenovo\\OneDrive\\Documents\\Strive repos\\Heart-disease-ML-model\\data_handler.py:128: FutureWarning: The frame.append method is deprecated and will be removed from pandas in a future version. Use pandas.concat instead.\n",
      "  results = results.append({\"Model\": model_name,\n"
     ]
    },
    {
     "name": "stdout",
     "output_type": "stream",
     "text": [
      "Learning rate set to 0.051038\n",
      "0:\tlearn: 0.6748832\ttotal: 140ms\tremaining: 13.9s\n",
      "1:\tlearn: 0.6602424\ttotal: 141ms\tremaining: 6.92s\n",
      "2:\tlearn: 0.6432997\ttotal: 142ms\tremaining: 4.6s\n",
      "3:\tlearn: 0.6285480\ttotal: 143ms\tremaining: 3.42s\n",
      "4:\tlearn: 0.6159544\ttotal: 144ms\tremaining: 2.73s\n",
      "5:\tlearn: 0.6056922\ttotal: 145ms\tremaining: 2.27s\n",
      "6:\tlearn: 0.5955796\ttotal: 146ms\tremaining: 1.94s\n",
      "7:\tlearn: 0.5840732\ttotal: 147ms\tremaining: 1.69s\n",
      "8:\tlearn: 0.5737318\ttotal: 148ms\tremaining: 1.49s\n",
      "9:\tlearn: 0.5636226\ttotal: 149ms\tremaining: 1.34s\n",
      "10:\tlearn: 0.5546342\ttotal: 150ms\tremaining: 1.21s\n",
      "11:\tlearn: 0.5419188\ttotal: 150ms\tremaining: 1.1s\n",
      "12:\tlearn: 0.5332932\ttotal: 151ms\tremaining: 1.01s\n",
      "13:\tlearn: 0.5252214\ttotal: 152ms\tremaining: 934ms\n",
      "14:\tlearn: 0.5164609\ttotal: 153ms\tremaining: 867ms\n",
      "15:\tlearn: 0.5083350\ttotal: 154ms\tremaining: 809ms\n",
      "16:\tlearn: 0.5006043\ttotal: 155ms\tremaining: 758ms\n",
      "17:\tlearn: 0.4935176\ttotal: 156ms\tremaining: 713ms\n",
      "18:\tlearn: 0.4865284\ttotal: 157ms\tremaining: 671ms\n",
      "19:\tlearn: 0.4805524\ttotal: 158ms\tremaining: 632ms\n",
      "20:\tlearn: 0.4728220\ttotal: 159ms\tremaining: 598ms\n",
      "21:\tlearn: 0.4663914\ttotal: 160ms\tremaining: 566ms\n",
      "22:\tlearn: 0.4608002\ttotal: 161ms\tremaining: 538ms\n",
      "23:\tlearn: 0.4551685\ttotal: 162ms\tremaining: 512ms\n",
      "24:\tlearn: 0.4491830\ttotal: 163ms\tremaining: 489ms\n",
      "25:\tlearn: 0.4434656\ttotal: 164ms\tremaining: 467ms\n",
      "26:\tlearn: 0.4382912\ttotal: 165ms\tremaining: 446ms\n",
      "27:\tlearn: 0.4334542\ttotal: 166ms\tremaining: 427ms\n",
      "28:\tlearn: 0.4285037\ttotal: 167ms\tremaining: 409ms\n",
      "29:\tlearn: 0.4238693\ttotal: 168ms\tremaining: 393ms\n",
      "30:\tlearn: 0.4202504\ttotal: 170ms\tremaining: 378ms\n",
      "31:\tlearn: 0.4159404\ttotal: 171ms\tremaining: 363ms\n",
      "32:\tlearn: 0.4110383\ttotal: 172ms\tremaining: 349ms\n",
      "33:\tlearn: 0.4070024\ttotal: 173ms\tremaining: 336ms\n",
      "34:\tlearn: 0.4026459\ttotal: 174ms\tremaining: 323ms\n",
      "35:\tlearn: 0.3981295\ttotal: 175ms\tremaining: 311ms\n",
      "36:\tlearn: 0.3946981\ttotal: 176ms\tremaining: 299ms\n",
      "37:\tlearn: 0.3904602\ttotal: 177ms\tremaining: 289ms\n",
      "38:\tlearn: 0.3865742\ttotal: 178ms\tremaining: 279ms\n",
      "39:\tlearn: 0.3835082\ttotal: 179ms\tremaining: 269ms\n",
      "40:\tlearn: 0.3810202\ttotal: 180ms\tremaining: 259ms\n",
      "41:\tlearn: 0.3772308\ttotal: 181ms\tremaining: 250ms\n",
      "42:\tlearn: 0.3750143\ttotal: 182ms\tremaining: 241ms\n",
      "43:\tlearn: 0.3720419\ttotal: 183ms\tremaining: 233ms\n",
      "44:\tlearn: 0.3683467\ttotal: 185ms\tremaining: 227ms\n",
      "45:\tlearn: 0.3650994\ttotal: 187ms\tremaining: 219ms\n",
      "46:\tlearn: 0.3619604\ttotal: 187ms\tremaining: 211ms\n",
      "47:\tlearn: 0.3597551\ttotal: 188ms\tremaining: 204ms\n",
      "48:\tlearn: 0.3564447\ttotal: 189ms\tremaining: 197ms\n",
      "49:\tlearn: 0.3529068\ttotal: 190ms\tremaining: 190ms\n",
      "50:\tlearn: 0.3498572\ttotal: 191ms\tremaining: 184ms\n",
      "51:\tlearn: 0.3476153\ttotal: 193ms\tremaining: 178ms\n",
      "52:\tlearn: 0.3445175\ttotal: 194ms\tremaining: 172ms\n",
      "53:\tlearn: 0.3420321\ttotal: 195ms\tremaining: 166ms\n",
      "54:\tlearn: 0.3393100\ttotal: 196ms\tremaining: 160ms\n",
      "55:\tlearn: 0.3372531\ttotal: 197ms\tremaining: 155ms\n",
      "56:\tlearn: 0.3349379\ttotal: 198ms\tremaining: 149ms\n",
      "57:\tlearn: 0.3327895\ttotal: 199ms\tremaining: 144ms\n",
      "58:\tlearn: 0.3308458\ttotal: 200ms\tremaining: 139ms\n",
      "59:\tlearn: 0.3290008\ttotal: 201ms\tremaining: 134ms\n",
      "60:\tlearn: 0.3268265\ttotal: 202ms\tremaining: 129ms\n",
      "61:\tlearn: 0.3243457\ttotal: 203ms\tremaining: 125ms\n",
      "62:\tlearn: 0.3224622\ttotal: 205ms\tremaining: 120ms\n",
      "63:\tlearn: 0.3199853\ttotal: 206ms\tremaining: 116ms\n",
      "64:\tlearn: 0.3176490\ttotal: 207ms\tremaining: 111ms\n",
      "65:\tlearn: 0.3160567\ttotal: 208ms\tremaining: 107ms\n",
      "66:\tlearn: 0.3147836\ttotal: 209ms\tremaining: 103ms\n",
      "67:\tlearn: 0.3126189\ttotal: 210ms\tremaining: 98.8ms\n",
      "68:\tlearn: 0.3106062\ttotal: 211ms\tremaining: 94.7ms\n",
      "69:\tlearn: 0.3083739\ttotal: 212ms\tremaining: 91.1ms\n",
      "70:\tlearn: 0.3064260\ttotal: 214ms\tremaining: 87.6ms\n",
      "71:\tlearn: 0.3045737\ttotal: 216ms\tremaining: 83.8ms\n",
      "72:\tlearn: 0.3027125\ttotal: 217ms\tremaining: 80.3ms\n",
      "73:\tlearn: 0.3007821\ttotal: 218ms\tremaining: 76.7ms\n",
      "74:\tlearn: 0.2990361\ttotal: 219ms\tremaining: 73.1ms\n",
      "75:\tlearn: 0.2964047\ttotal: 220ms\tremaining: 69.6ms\n",
      "76:\tlearn: 0.2946178\ttotal: 222ms\tremaining: 66.2ms\n",
      "77:\tlearn: 0.2931324\ttotal: 223ms\tremaining: 62.8ms\n",
      "78:\tlearn: 0.2915371\ttotal: 224ms\tremaining: 59.5ms\n",
      "79:\tlearn: 0.2898456\ttotal: 225ms\tremaining: 56.2ms\n",
      "80:\tlearn: 0.2882346\ttotal: 226ms\tremaining: 53ms\n",
      "81:\tlearn: 0.2872480\ttotal: 227ms\tremaining: 49.9ms\n",
      "82:\tlearn: 0.2853537\ttotal: 228ms\tremaining: 46.8ms\n",
      "83:\tlearn: 0.2837293\ttotal: 229ms\tremaining: 43.7ms\n",
      "84:\tlearn: 0.2823781\ttotal: 230ms\tremaining: 40.6ms\n",
      "85:\tlearn: 0.2805184\ttotal: 231ms\tremaining: 37.7ms\n",
      "86:\tlearn: 0.2791972\ttotal: 232ms\tremaining: 34.7ms\n",
      "87:\tlearn: 0.2774804\ttotal: 233ms\tremaining: 31.8ms\n",
      "88:\tlearn: 0.2757517\ttotal: 234ms\tremaining: 29ms\n",
      "89:\tlearn: 0.2746529\ttotal: 235ms\tremaining: 26.2ms\n",
      "90:\tlearn: 0.2735932\ttotal: 236ms\tremaining: 23.4ms\n",
      "91:\tlearn: 0.2719401\ttotal: 237ms\tremaining: 20.6ms\n",
      "92:\tlearn: 0.2700816\ttotal: 238ms\tremaining: 17.9ms\n",
      "93:\tlearn: 0.2683606\ttotal: 240ms\tremaining: 15.3ms\n",
      "94:\tlearn: 0.2665962\ttotal: 241ms\tremaining: 12.7ms\n",
      "95:\tlearn: 0.2651160\ttotal: 242ms\tremaining: 10.1ms\n",
      "96:\tlearn: 0.2637321\ttotal: 243ms\tremaining: 7.51ms\n",
      "97:\tlearn: 0.2625985\ttotal: 244ms\tremaining: 4.98ms\n",
      "98:\tlearn: 0.2611811\ttotal: 245ms\tremaining: 2.47ms\n",
      "99:\tlearn: 0.2600411\ttotal: 246ms\tremaining: 0us\n"
     ]
    },
    {
     "name": "stderr",
     "output_type": "stream",
     "text": [
      "c:\\Users\\Lenovo\\OneDrive\\Documents\\Strive repos\\Heart-disease-ML-model\\data_handler.py:128: FutureWarning: The frame.append method is deprecated and will be removed from pandas in a future version. Use pandas.concat instead.\n",
      "  results = results.append({\"Model\": model_name,\n",
      "c:\\Users\\Lenovo\\OneDrive\\Documents\\Strive repos\\Heart-disease-ML-model\\data_handler.py:128: FutureWarning: The frame.append method is deprecated and will be removed from pandas in a future version. Use pandas.concat instead.\n",
      "  results = results.append({\"Model\": model_name,\n"
     ]
    },
    {
     "name": "stdout",
     "output_type": "stream",
     "text": [
      "                 Model  Accuracy Score  Balanced Accuracy score      Time\n",
      "0          Extra Trees       91.803279                91.503268  0.702704\n",
      "1        Random Forest       88.524590                88.180828  0.187491\n",
      "2             Catboost       88.524590                88.180828  0.431056\n",
      "3            Ada Boost       86.885246                87.091503  0.190758\n",
      "4    Gradient Boosting       86.885246                87.091503  0.136002\n",
      "5              XGBoost       86.885246                87.472767  0.633951\n",
      "6  Logistic Regression       86.885246                86.328976  0.134001\n",
      "7        Decision Tree       85.245902                84.858388  0.021909\n",
      "8             LightGBM       85.245902                85.239651  0.379758\n",
      "0.8843169398907105\n"
     ]
    }
   ],
   "source": [
    "from data_handler import x_train, y_train\n",
    "\n",
    "\n",
    "\n",
    "hyper_params = {\n",
    "    \"n_estimators\": [100, 200, 500],\n",
    "    \"random_state\": [0, 42, 100],\n",
    "    \"max_depth\": [3, 6, 9],\n",
    "    \"min_samples_split\": [2, 3, 4]\n",
    "}\n",
    "\n",
    "clf = ExtraTreesClassifier()\n",
    "\n",
    "GS = GridSearchCV(estimator=clf, param_grid=hyper_params, scoring = 'accuracy', cv=5, refit='accuracy')\n",
    "\n",
    "GS.fit(x_train, y_train)\n",
    "# print(GS.best_estimator_)\n",
    "# print(GS.best_params_)\n",
    "best_params = GS.best_params_\n",
    "scores = GS.best_score_\n",
    "print(scores)"
   ]
  },
  {
   "cell_type": "code",
   "execution_count": 3,
   "metadata": {},
   "outputs": [
    {
     "name": "stdout",
     "output_type": "stream",
     "text": [
      "{'max_depth': 9, 'min_samples_split': 2, 'n_estimators': 100, 'random_state': 42}\n"
     ]
    }
   ],
   "source": [
    "\n",
    "print(best_params)"
   ]
  },
  {
   "cell_type": "code",
   "execution_count": null,
   "metadata": {},
   "outputs": [],
   "source": [
    "# {'max_depth': 6, 'min_samples_split': 4, 'n_estimators': 500, 'random_state': 42}"
   ]
  }
 ],
 "metadata": {
  "interpreter": {
   "hash": "5ed1bb5934eae08299c16fd9947bb48a0f71760aafca10ea34604ac55954bd10"
  },
  "kernelspec": {
   "display_name": "Python 3.10.4 ('strive2')",
   "language": "python",
   "name": "python3"
  },
  "language_info": {
   "codemirror_mode": {
    "name": "ipython",
    "version": 3
   },
   "file_extension": ".py",
   "mimetype": "text/x-python",
   "name": "python",
   "nbconvert_exporter": "python",
   "pygments_lexer": "ipython3",
   "version": "3.10.4"
  },
  "orig_nbformat": 4
 },
 "nbformat": 4,
 "nbformat_minor": 2
}
